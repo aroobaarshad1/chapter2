{
 "cells": [
  {
   "cell_type": "code",
   "execution_count": 2,
   "id": "b69eb347",
   "metadata": {},
   "outputs": [
    {
     "name": "stdout",
     "output_type": "stream",
     "text": [
      "constant\n"
     ]
    }
   ],
   "source": [
    "print('constant')"
   ]
  },
  {
   "cell_type": "code",
   "execution_count": 3,
   "id": "767d1304",
   "metadata": {},
   "outputs": [
    {
     "name": "stdout",
     "output_type": "stream",
     "text": [
      "123\n"
     ]
    }
   ],
   "source": [
    "print(123)"
   ]
  },
  {
   "cell_type": "code",
   "execution_count": 4,
   "id": "112fdcd1",
   "metadata": {},
   "outputs": [
    {
     "name": "stdout",
     "output_type": "stream",
     "text": [
      "we can not use reserve words as variable\n"
     ]
    }
   ],
   "source": [
    "print('we can not use reserve words as variable')"
   ]
  },
  {
   "cell_type": "code",
   "execution_count": 5,
   "id": "5fe916f0",
   "metadata": {},
   "outputs": [
    {
     "ename": "SyntaxError",
     "evalue": "invalid syntax (1519007822.py, line 1)",
     "output_type": "error",
     "traceback": [
      "\u001b[1;36m  Cell \u001b[1;32mIn[5], line 1\u001b[1;36m\u001b[0m\n\u001b[1;33m    class=45\u001b[0m\n\u001b[1;37m         ^\u001b[0m\n\u001b[1;31mSyntaxError\u001b[0m\u001b[1;31m:\u001b[0m invalid syntax\n"
     ]
    }
   ],
   "source": [
    "class=45"
   ]
  },
  {
   "cell_type": "code",
   "execution_count": 6,
   "id": "3e657a5e",
   "metadata": {},
   "outputs": [
    {
     "name": "stdout",
     "output_type": "stream",
     "text": [
      "variable\n"
     ]
    }
   ],
   "source": [
    "print('variable')"
   ]
  },
  {
   "cell_type": "code",
   "execution_count": 7,
   "id": "190ba9f7",
   "metadata": {},
   "outputs": [
    {
     "name": "stdout",
     "output_type": "stream",
     "text": [
      "121\n"
     ]
    }
   ],
   "source": [
    "x=22\n",
    "y=99\n",
    "z=x+y\n",
    "print(z)"
   ]
  },
  {
   "cell_type": "code",
   "execution_count": 8,
   "id": "cd30213e",
   "metadata": {},
   "outputs": [
    {
     "data": {
      "text/plain": [
       "-77"
      ]
     },
     "execution_count": 8,
     "metadata": {},
     "output_type": "execute_result"
    }
   ],
   "source": [
    "x-y"
   ]
  },
  {
   "cell_type": "code",
   "execution_count": 9,
   "id": "c7f1a097",
   "metadata": {},
   "outputs": [
    {
     "name": "stdout",
     "output_type": "stream",
     "text": [
      "199\n"
     ]
    }
   ],
   "source": [
    "x=100\n",
    "z=x+y\n",
    "print(z)"
   ]
  },
  {
   "cell_type": "code",
   "execution_count": 10,
   "id": "107b002d",
   "metadata": {},
   "outputs": [
    {
     "name": "stdout",
     "output_type": "stream",
     "text": [
      "109\n"
     ]
    }
   ],
   "source": [
    "x=x+9\n",
    "print(x)"
   ]
  },
  {
   "cell_type": "code",
   "execution_count": 11,
   "id": "e3371131",
   "metadata": {},
   "outputs": [
    {
     "name": "stdout",
     "output_type": "stream",
     "text": [
      "Assignment statements\n"
     ]
    }
   ],
   "source": [
    "print('Assignment statements')"
   ]
  },
  {
   "cell_type": "code",
   "execution_count": 12,
   "id": "d380ece4",
   "metadata": {},
   "outputs": [
    {
     "name": "stdout",
     "output_type": "stream",
     "text": [
      "-45910.799999999996\n"
     ]
    }
   ],
   "source": [
    "x=3.9*x*(1-x)\n",
    "print(x)"
   ]
  },
  {
   "cell_type": "code",
   "execution_count": 13,
   "id": "aa488ae6",
   "metadata": {},
   "outputs": [
    {
     "name": "stdout",
     "output_type": "stream",
     "text": [
      "expression\n"
     ]
    }
   ],
   "source": [
    "print('expression')"
   ]
  },
  {
   "cell_type": "code",
   "execution_count": 14,
   "id": "65c3fd52",
   "metadata": {},
   "outputs": [
    {
     "name": "stdout",
     "output_type": "stream",
     "text": [
      "10\n"
     ]
    }
   ],
   "source": [
    "m=8\n",
    "m=m+2\n",
    "print(m)"
   ]
  },
  {
   "cell_type": "code",
   "execution_count": 15,
   "id": "f8ddb8e7",
   "metadata": {},
   "outputs": [
    {
     "name": "stdout",
     "output_type": "stream",
     "text": [
      "36\n"
     ]
    }
   ],
   "source": [
    "w=6\n",
    "w=w*6\n",
    "print(w)"
   ]
  },
  {
   "cell_type": "code",
   "execution_count": 16,
   "id": "bdbe2efd",
   "metadata": {},
   "outputs": [
    {
     "name": "stdout",
     "output_type": "stream",
     "text": [
      "18.0\n"
     ]
    }
   ],
   "source": [
    "a=w/2\n",
    "print(a)"
   ]
  },
  {
   "cell_type": "code",
   "execution_count": 17,
   "id": "82e520ec",
   "metadata": {},
   "outputs": [
    {
     "name": "stdout",
     "output_type": "stream",
     "text": [
      "25\n"
     ]
    }
   ],
   "source": [
    "print(5**2)"
   ]
  },
  {
   "cell_type": "code",
   "execution_count": 18,
   "id": "6b64ab9e",
   "metadata": {},
   "outputs": [
    {
     "name": "stdout",
     "output_type": "stream",
     "text": [
      "54.0\n"
     ]
    }
   ],
   "source": [
    "print(a+w)"
   ]
  },
  {
   "cell_type": "code",
   "execution_count": 19,
   "id": "287693fe",
   "metadata": {},
   "outputs": [
    {
     "name": "stdout",
     "output_type": "stream",
     "text": [
      "order of evaluation\n"
     ]
    }
   ],
   "source": [
    "print('order of evaluation')"
   ]
  },
  {
   "cell_type": "code",
   "execution_count": 20,
   "id": "f4a1bab0",
   "metadata": {},
   "outputs": [
    {
     "name": "stdout",
     "output_type": "stream",
     "text": [
      "6.999744\n"
     ]
    }
   ],
   "source": [
    "x=1+2*3-4/5**6\n",
    "print(x)"
   ]
  },
  {
   "cell_type": "code",
   "execution_count": 21,
   "id": "35167764",
   "metadata": {},
   "outputs": [
    {
     "name": "stdout",
     "output_type": "stream",
     "text": [
      "type\n"
     ]
    }
   ],
   "source": [
    "print('type')"
   ]
  },
  {
   "cell_type": "code",
   "execution_count": 22,
   "id": "c72ff0be",
   "metadata": {},
   "outputs": [
    {
     "name": "stdout",
     "output_type": "stream",
     "text": [
      "aroobaarshad\n"
     ]
    }
   ],
   "source": [
    "aa='arooba'+'arshad'\n",
    "print(aa)"
   ]
  },
  {
   "cell_type": "code",
   "execution_count": 23,
   "id": "ec7e39f9",
   "metadata": {},
   "outputs": [
    {
     "ename": "TypeError",
     "evalue": "can only concatenate str (not \"int\") to str",
     "output_type": "error",
     "traceback": [
      "\u001b[1;31m---------------------------------------------------------------------------\u001b[0m",
      "\u001b[1;31mTypeError\u001b[0m                                 Traceback (most recent call last)",
      "Cell \u001b[1;32mIn[23], line 1\u001b[0m\n\u001b[1;32m----> 1\u001b[0m aa\u001b[38;5;241m=\u001b[39maa\u001b[38;5;241m+\u001b[39m\u001b[38;5;241m1\u001b[39m\n\u001b[0;32m      2\u001b[0m \u001b[38;5;28mprint\u001b[39m(aa)\n",
      "\u001b[1;31mTypeError\u001b[0m: can only concatenate str (not \"int\") to str"
     ]
    }
   ],
   "source": [
    "aa=aa+1\n",
    "print(aa)"
   ]
  },
  {
   "cell_type": "code",
   "execution_count": 24,
   "id": "f78cf6f2",
   "metadata": {},
   "outputs": [
    {
     "data": {
      "text/plain": [
       "str"
      ]
     },
     "execution_count": 24,
     "metadata": {},
     "output_type": "execute_result"
    }
   ],
   "source": [
    "type(aa)"
   ]
  },
  {
   "cell_type": "code",
   "execution_count": 25,
   "id": "de9c74d7",
   "metadata": {},
   "outputs": [
    {
     "data": {
      "text/plain": [
       "int"
      ]
     },
     "execution_count": 25,
     "metadata": {},
     "output_type": "execute_result"
    }
   ],
   "source": [
    "aa=1\n",
    "type(aa)"
   ]
  },
  {
   "cell_type": "code",
   "execution_count": 26,
   "id": "c4319527",
   "metadata": {},
   "outputs": [
    {
     "data": {
      "text/plain": [
       "float"
      ]
     },
     "execution_count": 26,
     "metadata": {},
     "output_type": "execute_result"
    }
   ],
   "source": [
    "temp=88.9\n",
    "type(temp)"
   ]
  },
  {
   "cell_type": "code",
   "execution_count": 27,
   "id": "c5ae81c7",
   "metadata": {},
   "outputs": [
    {
     "name": "stdout",
     "output_type": "stream",
     "text": [
      "90.9\n"
     ]
    }
   ],
   "source": [
    "sum=temp+2\n",
    "print(sum)"
   ]
  },
  {
   "cell_type": "code",
   "execution_count": 28,
   "id": "e3eb5e27",
   "metadata": {},
   "outputs": [
    {
     "name": "stdout",
     "output_type": "stream",
     "text": [
      "30.0\n"
     ]
    }
   ],
   "source": [
    "print(float(22)+8)"
   ]
  },
  {
   "cell_type": "code",
   "execution_count": 29,
   "id": "c3890286",
   "metadata": {},
   "outputs": [
    {
     "name": "stdout",
     "output_type": "stream",
     "text": [
      "integer division results floating point\n"
     ]
    }
   ],
   "source": [
    "print('integer division results floating point')"
   ]
  },
  {
   "cell_type": "code",
   "execution_count": 30,
   "id": "8cb50dd7",
   "metadata": {},
   "outputs": [
    {
     "name": "stdout",
     "output_type": "stream",
     "text": [
      "10.0\n"
     ]
    }
   ],
   "source": [
    "print(20/2)"
   ]
  },
  {
   "cell_type": "code",
   "execution_count": 31,
   "id": "de6df722",
   "metadata": {},
   "outputs": [
    {
     "data": {
      "text/plain": [
       "str"
      ]
     },
     "execution_count": 31,
     "metadata": {},
     "output_type": "execute_result"
    }
   ],
   "source": [
    "kang='123'\n",
    "type(kang)"
   ]
  },
  {
   "cell_type": "code",
   "execution_count": 32,
   "id": "56d3d6f1",
   "metadata": {},
   "outputs": [
    {
     "ename": "TypeError",
     "evalue": "can only concatenate str (not \"int\") to str",
     "output_type": "error",
     "traceback": [
      "\u001b[1;31m---------------------------------------------------------------------------\u001b[0m",
      "\u001b[1;31mTypeError\u001b[0m                                 Traceback (most recent call last)",
      "Cell \u001b[1;32mIn[32], line 1\u001b[0m\n\u001b[1;32m----> 1\u001b[0m \u001b[38;5;28mprint\u001b[39m(kang\u001b[38;5;241m+\u001b[39m\u001b[38;5;241m1\u001b[39m)\n",
      "\u001b[1;31mTypeError\u001b[0m: can only concatenate str (not \"int\") to str"
     ]
    }
   ],
   "source": [
    "print(kang+1)"
   ]
  },
  {
   "cell_type": "code",
   "execution_count": 33,
   "id": "34dfab25",
   "metadata": {},
   "outputs": [
    {
     "data": {
      "text/plain": [
       "int"
      ]
     },
     "execution_count": 33,
     "metadata": {},
     "output_type": "execute_result"
    }
   ],
   "source": [
    "tang=int(kang)\n",
    "type(tang)"
   ]
  },
  {
   "cell_type": "code",
   "execution_count": 34,
   "id": "1df558ad",
   "metadata": {},
   "outputs": [
    {
     "name": "stdout",
     "output_type": "stream",
     "text": [
      "124\n"
     ]
    }
   ],
   "source": [
    "print(tang+1)"
   ]
  },
  {
   "cell_type": "code",
   "execution_count": 35,
   "id": "c547859d",
   "metadata": {},
   "outputs": [
    {
     "data": {
      "text/plain": [
       "str"
      ]
     },
     "execution_count": 35,
     "metadata": {},
     "output_type": "execute_result"
    }
   ],
   "source": [
    "u='abc'\n",
    "type(u)"
   ]
  },
  {
   "cell_type": "code",
   "execution_count": 36,
   "id": "063aeff5",
   "metadata": {},
   "outputs": [
    {
     "ename": "ValueError",
     "evalue": "invalid literal for int() with base 10: 'abc'",
     "output_type": "error",
     "traceback": [
      "\u001b[1;31m---------------------------------------------------------------------------\u001b[0m",
      "\u001b[1;31mValueError\u001b[0m                                Traceback (most recent call last)",
      "Cell \u001b[1;32mIn[36], line 1\u001b[0m\n\u001b[1;32m----> 1\u001b[0m w\u001b[38;5;241m=\u001b[39m\u001b[38;5;28mint\u001b[39m(u)\n\u001b[0;32m      2\u001b[0m \u001b[38;5;28mtype\u001b[39m(w)\n",
      "\u001b[1;31mValueError\u001b[0m: invalid literal for int() with base 10: 'abc'"
     ]
    }
   ],
   "source": [
    "w=int(u)\n",
    "type(w)"
   ]
  },
  {
   "cell_type": "code",
   "execution_count": 37,
   "id": "f015b808",
   "metadata": {},
   "outputs": [
    {
     "name": "stdout",
     "output_type": "stream",
     "text": [
      "user input\n"
     ]
    }
   ],
   "source": [
    "print('user input')"
   ]
  },
  {
   "cell_type": "code",
   "execution_count": 38,
   "id": "a8e70987",
   "metadata": {},
   "outputs": [
    {
     "name": "stdout",
     "output_type": "stream",
     "text": [
      "who are you?Arooba Arshad\n",
      "welcome Arooba Arshad\n"
     ]
    }
   ],
   "source": [
    "van=input('who are you?')\n",
    "print('welcome',van)"
   ]
  },
  {
   "cell_type": "code",
   "execution_count": 39,
   "id": "d4731547",
   "metadata": {},
   "outputs": [
    {
     "name": "stdout",
     "output_type": "stream",
     "text": [
      "which floor?first\n"
     ]
    },
    {
     "ename": "ValueError",
     "evalue": "invalid literal for int() with base 10: 'first'",
     "output_type": "error",
     "traceback": [
      "\u001b[1;31m---------------------------------------------------------------------------\u001b[0m",
      "\u001b[1;31mValueError\u001b[0m                                Traceback (most recent call last)",
      "Cell \u001b[1;32mIn[39], line 2\u001b[0m\n\u001b[0;32m      1\u001b[0m inp\u001b[38;5;241m=\u001b[39m\u001b[38;5;28minput\u001b[39m(\u001b[38;5;124m'\u001b[39m\u001b[38;5;124mwhich floor?\u001b[39m\u001b[38;5;124m'\u001b[39m)\n\u001b[1;32m----> 2\u001b[0m pik\u001b[38;5;241m=\u001b[39m\u001b[38;5;28mint\u001b[39m(inp)\u001b[38;5;241m+\u001b[39m\u001b[38;5;241m1\u001b[39m\n\u001b[0;32m      3\u001b[0m \u001b[38;5;28mprint\u001b[39m(\u001b[38;5;124m'\u001b[39m\u001b[38;5;124mus floor\u001b[39m\u001b[38;5;124m'\u001b[39m,pik)\n",
      "\u001b[1;31mValueError\u001b[0m: invalid literal for int() with base 10: 'first'"
     ]
    }
   ],
   "source": [
    "inp=input('which floor?')\n",
    "pik=int(inp)+1\n",
    "print('us floor',pik)"
   ]
  },
  {
   "cell_type": "code",
   "execution_count": 40,
   "id": "294d6298",
   "metadata": {},
   "outputs": [
    {
     "name": "stdout",
     "output_type": "stream",
     "text": [
      "which floor?1\n",
      "us floor 2\n"
     ]
    }
   ],
   "source": [
    "inp=input('which floor?')\n",
    "pik=int(inp)+1\n",
    "print('us floor',pik)"
   ]
  },
  {
   "cell_type": "code",
   "execution_count": 1,
   "id": "f97caf48",
   "metadata": {},
   "outputs": [
    {
     "name": "stdout",
     "output_type": "stream",
     "text": [
      "comments in python\n"
     ]
    }
   ],
   "source": [
    "print('comments in python')"
   ]
  },
  {
   "cell_type": "code",
   "execution_count": 2,
   "id": "166c2542",
   "metadata": {},
   "outputs": [
    {
     "name": "stdout",
     "output_type": "stream",
     "text": [
      "my repo:abc\n"
     ]
    }
   ],
   "source": [
    "#get name of the file\n",
    "name=input('my repo:')"
   ]
  },
  {
   "cell_type": "code",
   "execution_count": 4,
   "id": "6c33a072",
   "metadata": {},
   "outputs": [
    {
     "name": "stdout",
     "output_type": "stream",
     "text": [
      "enter hours worked: 35\n",
      "enter hourly rate: 2.75\n",
      "96.25\n"
     ]
    }
   ],
   "source": [
    "hours_worked=float(input(\"enter hours worked: \"))\n",
    "hourly_rate=float(input(\"enter hourly rate: \"))\n",
    "gross_pay=hours_worked*hourly_rate\n",
    "print(gross_pay)"
   ]
  },
  {
   "cell_type": "code",
   "execution_count": null,
   "id": "ffe6818d",
   "metadata": {},
   "outputs": [],
   "source": []
  }
 ],
 "metadata": {
  "kernelspec": {
   "display_name": "Python 3 (ipykernel)",
   "language": "python",
   "name": "python3"
  },
  "language_info": {
   "codemirror_mode": {
    "name": "ipython",
    "version": 3
   },
   "file_extension": ".py",
   "mimetype": "text/x-python",
   "name": "python",
   "nbconvert_exporter": "python",
   "pygments_lexer": "ipython3",
   "version": "3.11.4"
  }
 },
 "nbformat": 4,
 "nbformat_minor": 5
}
