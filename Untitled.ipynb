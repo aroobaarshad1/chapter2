{
 "cells": [
  {
   "cell_type": "code",
   "execution_count": 2,
   "id": "579ac30d",
   "metadata": {},
   "outputs": [
    {
     "name": "stdout",
     "output_type": "stream",
     "text": [
      "smaller\n",
      "end\n"
     ]
    }
   ],
   "source": [
    "#conditional execution\n",
    "x=5\n",
    "if x<10:\n",
    "    print('smaller')\n",
    "if x>20:\n",
    "    print('bigger')\n",
    "print('end')"
   ]
  },
  {
   "cell_type": "code",
   "execution_count": 3,
   "id": "ab51713b",
   "metadata": {},
   "outputs": [
    {
     "name": "stdout",
     "output_type": "stream",
     "text": [
      "equals 5\n"
     ]
    }
   ],
   "source": [
    "#comparison operators\n",
    "x=7\n",
    "if x==7:\n",
    "    print('equals 5')"
   ]
  },
  {
   "cell_type": "code",
   "execution_count": 4,
   "id": "8d52a616",
   "metadata": {},
   "outputs": [
    {
     "name": "stdout",
     "output_type": "stream",
     "text": [
      "greater than\n"
     ]
    }
   ],
   "source": [
    "if x>4:\n",
    "    print('greater than')"
   ]
  },
  {
   "cell_type": "code",
   "execution_count": 5,
   "id": "b3a60887",
   "metadata": {},
   "outputs": [
    {
     "name": "stdout",
     "output_type": "stream",
     "text": [
      "greater than or equals 5\n"
     ]
    }
   ],
   "source": [
    "if x>=5:\n",
    "    print('greater than or equals 5')"
   ]
  },
  {
   "cell_type": "code",
   "execution_count": 12,
   "id": "fe58fcab",
   "metadata": {},
   "outputs": [
    {
     "name": "stdout",
     "output_type": "stream",
     "text": [
      "before 5\n",
      "is 5\n",
      "is still 5\n",
      "third 5\n",
      "afterwards 5\n",
      "before 6\n",
      "afterwards 6\n"
     ]
    }
   ],
   "source": [
    "#one way decisions\n",
    "x=5\n",
    "print('before 5')\n",
    "if x==5:\n",
    "    print('is 5')\n",
    "    print('is still 5')\n",
    "    print('third 5')\n",
    "print('afterwards 5')\n",
    "print('before 6')\n",
    "if x==6:\n",
    "    print('is 6')\n",
    "    print('is still 6')\n",
    "    print('third 6')\n",
    "print('afterwards 6')"
   ]
  },
  {
   "cell_type": "code",
   "execution_count": 13,
   "id": "77516313",
   "metadata": {},
   "outputs": [
    {
     "name": "stdout",
     "output_type": "stream",
     "text": [
      "bigger than 2\n",
      "still bigger\n",
      "done with 2\n",
      "0\n",
      "done with i 0\n",
      "1\n",
      "done with i 1\n",
      "2\n",
      "done with i 2\n",
      "3\n",
      "bigger than 2\n",
      "done with i 3\n",
      "4\n",
      "bigger than 2\n",
      "done with i 4\n",
      "all done\n"
     ]
    }
   ],
   "source": [
    "#bloks by intendation\n",
    "x=5\n",
    "if x>2:\n",
    "    print('bigger than 2')\n",
    "    print('still bigger')\n",
    "print('done with 2')\n",
    "for i in range(5):\n",
    "    print(i)\n",
    "    if i>2:\n",
    "        print('bigger than 2')\n",
    "    print('done with i',i)\n",
    "print('all done')"
   ]
  },
  {
   "cell_type": "code",
   "execution_count": 14,
   "id": "816e511b",
   "metadata": {},
   "outputs": [
    {
     "name": "stdout",
     "output_type": "stream",
     "text": [
      "more than one\n",
      "less than 100\n",
      "all done\n"
     ]
    }
   ],
   "source": [
    "#nested decision\n",
    "x=42\n",
    "if x>1:\n",
    "    print('more than one')\n",
    "    if x<100:\n",
    "        print('less than 100')\n",
    "print('all done')"
   ]
  },
  {
   "cell_type": "code",
   "execution_count": 15,
   "id": "9d91e831",
   "metadata": {},
   "outputs": [
    {
     "name": "stdout",
     "output_type": "stream",
     "text": [
      "bigger\n",
      "all done\n"
     ]
    }
   ],
   "source": [
    "#two way decision with else\n",
    "x=4\n",
    "if x>2:\n",
    "    print('bigger')\n",
    "else:\n",
    "    print('smaller')\n",
    "print('all done')"
   ]
  },
  {
   "cell_type": "code",
   "execution_count": 16,
   "id": "426e8a8f",
   "metadata": {},
   "outputs": [
    {
     "name": "stdout",
     "output_type": "stream",
     "text": [
      "medium\n",
      "all done\n"
     ]
    }
   ],
   "source": [
    "#multiway\n",
    "if x<2:\n",
    "    print('small')\n",
    "elif x<10:\n",
    "    print('medium')\n",
    "else:\n",
    "    print('large')\n",
    "print('all done')"
   ]
  },
  {
   "cell_type": "code",
   "execution_count": 17,
   "id": "cf6b3818",
   "metadata": {},
   "outputs": [
    {
     "name": "stdout",
     "output_type": "stream",
     "text": [
      "medium\n",
      "all done\n"
     ]
    }
   ],
   "source": [
    "#multiway no else\n",
    "x=5\n",
    "if x<2:\n",
    "    print('small')\n",
    "elif x<10:\n",
    "    print('medium')\n",
    "print('all done')"
   ]
  },
  {
   "cell_type": "code",
   "execution_count": 18,
   "id": "589891ae",
   "metadata": {},
   "outputs": [
    {
     "name": "stdout",
     "output_type": "stream",
     "text": [
      "two or more\n"
     ]
    }
   ],
   "source": [
    "#multiway puzzles\n",
    "if x<2:\n",
    "    print('below 2')\n",
    "elif x>=2:\n",
    "    print('two or more')\n",
    "else:\n",
    "    print('smothing else')"
   ]
  },
  {
   "cell_type": "code",
   "execution_count": 19,
   "id": "47d7e7b2",
   "metadata": {},
   "outputs": [
    {
     "name": "stdout",
     "output_type": "stream",
     "text": [
      "first -1\n",
      "second 123\n"
     ]
    }
   ],
   "source": [
    "#try and except\n",
    "astr='hello'\n",
    "try:\n",
    "    istr=int(astr)\n",
    "except:\n",
    "    istr=-1\n",
    "print('first',istr)\n",
    "astr='123'\n",
    "try:\n",
    "    istr=int(astr)\n",
    "except:\n",
    "    istr=-1\n",
    "print('second',istr)"
   ]
  },
  {
   "cell_type": "code",
   "execution_count": 20,
   "id": "f55f1f93",
   "metadata": {},
   "outputs": [
    {
     "name": "stdout",
     "output_type": "stream",
     "text": [
      "hello\n",
      "done -1\n"
     ]
    }
   ],
   "source": [
    "astr='bob'\n",
    "try:\n",
    "    print('hello')\n",
    "    istr=int(astr)\n",
    "    print('there')\n",
    "except:\n",
    "    istr=-1\n",
    "print('done',istr)"
   ]
  },
  {
   "cell_type": "code",
   "execution_count": 27,
   "id": "d9a13ed3",
   "metadata": {},
   "outputs": [
    {
     "name": "stdout",
     "output_type": "stream",
     "text": [
      "enter a number: 79\n",
      "enter rate: 77\n",
      "nice work\n",
      "nice work\n",
      "6083\n"
     ]
    }
   ],
   "source": [
    "#exercise\n",
    "hours_worked=input('enter a number: ')\n",
    "rate=input('enter rate: ')\n",
    "try:\n",
    "    working_hours=int(hours_worked)\n",
    "    rateperhour=int(rate)\n",
    "except:\n",
    "    working_hours=-1\n",
    "    rateperhour=-1\n",
    "if working_hours>0:\n",
    "    print('nice work')\n",
    "else:\n",
    "    print('not a number')\n",
    "if rateperhour>0:\n",
    "    print('nice work')\n",
    "else:\n",
    "    print('not a number')\n",
    "pay=working_hours*rateperhour\n",
    "print(pay)"
   ]
  },
  {
   "cell_type": "code",
   "execution_count": null,
   "id": "3cd00296",
   "metadata": {},
   "outputs": [],
   "source": []
  }
 ],
 "metadata": {
  "kernelspec": {
   "display_name": "Python 3 (ipykernel)",
   "language": "python",
   "name": "python3"
  },
  "language_info": {
   "codemirror_mode": {
    "name": "ipython",
    "version": 3
   },
   "file_extension": ".py",
   "mimetype": "text/x-python",
   "name": "python",
   "nbconvert_exporter": "python",
   "pygments_lexer": "ipython3",
   "version": "3.11.4"
  }
 },
 "nbformat": 4,
 "nbformat_minor": 5
}
