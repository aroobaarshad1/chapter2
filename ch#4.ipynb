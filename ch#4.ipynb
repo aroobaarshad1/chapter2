{
 "cells": [
  {
   "cell_type": "code",
   "execution_count": 1,
   "id": "55cda298",
   "metadata": {},
   "outputs": [
    {
     "name": "stdout",
     "output_type": "stream",
     "text": [
      "hello\n",
      "fun\n",
      "zip\n",
      "hello\n",
      "fun\n"
     ]
    }
   ],
   "source": [
    "#chapter 4\n",
    "#functions\n",
    "#stored and reused \n",
    "def thing():\n",
    "    print('hello')\n",
    "    print('fun')\n",
    "thing()\n",
    "print('zip')\n",
    "thing()"
   ]
  },
  {
   "cell_type": "code",
   "execution_count": 3,
   "id": "e2350c8e",
   "metadata": {},
   "outputs": [
    {
     "name": "stdout",
     "output_type": "stream",
     "text": [
      "w\n"
     ]
    }
   ],
   "source": [
    "#python functions\n",
    "#built-in function\n",
    "#user defined function\n",
    "big=max('hello world')\n",
    "print(big)\n"
   ]
  },
  {
   "cell_type": "code",
   "execution_count": 4,
   "id": "485d6357",
   "metadata": {},
   "outputs": [
    {
     "name": "stdout",
     "output_type": "stream",
     "text": [
      " \n"
     ]
    }
   ],
   "source": [
    "tiny=min('hello world')\n",
    "print(tiny)"
   ]
  },
  {
   "cell_type": "code",
   "execution_count": 5,
   "id": "920a00e5",
   "metadata": {},
   "outputs": [
    {
     "name": "stdout",
     "output_type": "stream",
     "text": [
      "0.99\n"
     ]
    }
   ],
   "source": [
    "#type conversion\n",
    "print(float(99)/100)"
   ]
  },
  {
   "cell_type": "code",
   "execution_count": 6,
   "id": "69f12473",
   "metadata": {},
   "outputs": [
    {
     "data": {
      "text/plain": [
       "int"
      ]
     },
     "execution_count": 6,
     "metadata": {},
     "output_type": "execute_result"
    }
   ],
   "source": [
    "i=42\n",
    "type(i)"
   ]
  },
  {
   "cell_type": "code",
   "execution_count": 7,
   "id": "e98c2c69",
   "metadata": {},
   "outputs": [
    {
     "name": "stdout",
     "output_type": "stream",
     "text": [
      "42.0\n"
     ]
    }
   ],
   "source": [
    "f=float(i)\n",
    "print(f)"
   ]
  },
  {
   "cell_type": "code",
   "execution_count": 8,
   "id": "2250cf2e",
   "metadata": {},
   "outputs": [
    {
     "data": {
      "text/plain": [
       "float"
      ]
     },
     "execution_count": 8,
     "metadata": {},
     "output_type": "execute_result"
    }
   ],
   "source": [
    "type(f)"
   ]
  },
  {
   "cell_type": "code",
   "execution_count": 9,
   "id": "7c563652",
   "metadata": {},
   "outputs": [
    {
     "name": "stdout",
     "output_type": "stream",
     "text": [
      "-2.5\n"
     ]
    }
   ],
   "source": [
    "print(1+2*float(3)/4-5)"
   ]
  },
  {
   "cell_type": "code",
   "execution_count": 10,
   "id": "d0f4d867",
   "metadata": {},
   "outputs": [
    {
     "data": {
      "text/plain": [
       "str"
      ]
     },
     "execution_count": 10,
     "metadata": {},
     "output_type": "execute_result"
    }
   ],
   "source": [
    "#string conversions\n",
    "sval='123'\n",
    "type(sval)"
   ]
  },
  {
   "cell_type": "code",
   "execution_count": 11,
   "id": "a9806aab",
   "metadata": {},
   "outputs": [
    {
     "ename": "TypeError",
     "evalue": "can only concatenate str (not \"int\") to str",
     "output_type": "error",
     "traceback": [
      "\u001b[1;31m---------------------------------------------------------------------------\u001b[0m",
      "\u001b[1;31mTypeError\u001b[0m                                 Traceback (most recent call last)",
      "Cell \u001b[1;32mIn[11], line 1\u001b[0m\n\u001b[1;32m----> 1\u001b[0m \u001b[38;5;28mprint\u001b[39m(sval\u001b[38;5;241m+\u001b[39m\u001b[38;5;241m1\u001b[39m)\n",
      "\u001b[1;31mTypeError\u001b[0m: can only concatenate str (not \"int\") to str"
     ]
    }
   ],
   "source": [
    "print(sval+1)"
   ]
  },
  {
   "cell_type": "code",
   "execution_count": 12,
   "id": "9f968d36",
   "metadata": {},
   "outputs": [
    {
     "data": {
      "text/plain": [
       "int"
      ]
     },
     "execution_count": 12,
     "metadata": {},
     "output_type": "execute_result"
    }
   ],
   "source": [
    "ival=int(sval)\n",
    "type(ival)"
   ]
  },
  {
   "cell_type": "code",
   "execution_count": 13,
   "id": "f65974dd",
   "metadata": {},
   "outputs": [
    {
     "name": "stdout",
     "output_type": "stream",
     "text": [
      "124\n"
     ]
    }
   ],
   "source": [
    "print(ival+1)"
   ]
  },
  {
   "cell_type": "code",
   "execution_count": 14,
   "id": "3a66eaa9",
   "metadata": {},
   "outputs": [
    {
     "ename": "ValueError",
     "evalue": "invalid literal for int() with base 10: 'hello world'",
     "output_type": "error",
     "traceback": [
      "\u001b[1;31m---------------------------------------------------------------------------\u001b[0m",
      "\u001b[1;31mValueError\u001b[0m                                Traceback (most recent call last)",
      "Cell \u001b[1;32mIn[14], line 2\u001b[0m\n\u001b[0;32m      1\u001b[0m nsv\u001b[38;5;241m=\u001b[39m\u001b[38;5;124m'\u001b[39m\u001b[38;5;124mhello world\u001b[39m\u001b[38;5;124m'\u001b[39m\n\u001b[1;32m----> 2\u001b[0m niv\u001b[38;5;241m=\u001b[39m\u001b[38;5;28mint\u001b[39m(nsv)\n",
      "\u001b[1;31mValueError\u001b[0m: invalid literal for int() with base 10: 'hello world'"
     ]
    }
   ],
   "source": [
    "nsv='hello world'\n",
    "niv=int(nsv)"
   ]
  },
  {
   "cell_type": "code",
   "execution_count": 15,
   "id": "02a30534",
   "metadata": {},
   "outputs": [
    {
     "name": "stdout",
     "output_type": "stream",
     "text": [
      "hello\n",
      "yo\n",
      "7\n"
     ]
    }
   ],
   "source": [
    "#building our own function\n",
    "x=5\n",
    "print('hello')\n",
    "def print_lyrics():\n",
    "    print(\"I'm a lumberjack,and i am okay\")\n",
    "    print('i sleep all night and work all day')\n",
    "print('yo')\n",
    "x=x+2\n",
    "print(x)"
   ]
  },
  {
   "cell_type": "code",
   "execution_count": 16,
   "id": "28289cae",
   "metadata": {},
   "outputs": [
    {
     "name": "stdout",
     "output_type": "stream",
     "text": [
      "hello\n",
      "yo\n",
      "I'm a lumberjack,and i am okay\n",
      "i sleep all night and work all day\n",
      "7\n"
     ]
    }
   ],
   "source": [
    "#function call\n",
    "x=5\n",
    "print('hello')\n",
    "def print_lyrics():\n",
    "    print(\"I'm a lumberjack,and i am okay\")\n",
    "    print('i sleep all night and work all day')\n",
    "print('yo')\n",
    "print_lyrics()\n",
    "x=x+2\n",
    "print(x)"
   ]
  },
  {
   "cell_type": "code",
   "execution_count": 17,
   "id": "8e97fd10",
   "metadata": {},
   "outputs": [],
   "source": [
    "#argument\n",
    "#it is a value that we pass to the fucntion\n",
    "big=max('hello world')\n",
    "#in this fuction hello world is argument"
   ]
  },
  {
   "cell_type": "code",
   "execution_count": 23,
   "id": "d20db6d6",
   "metadata": {},
   "outputs": [
    {
     "name": "stdout",
     "output_type": "stream",
     "text": [
      "hello\n",
      "HOLA\n",
      "bonjour\n"
     ]
    }
   ],
   "source": [
    "#parameters\n",
    "def greet(lang):\n",
    "    if lang=='es':\n",
    "        print('HOLA')\n",
    "    elif lang=='fr':\n",
    "        print('bonjour')\n",
    "    else:\n",
    "        print('hello')\n",
    "greet('en')\n",
    "greet('es')\n",
    "greet('fr')"
   ]
  },
  {
   "cell_type": "code",
   "execution_count": 24,
   "id": "3dfff659",
   "metadata": {},
   "outputs": [
    {
     "name": "stdout",
     "output_type": "stream",
     "text": [
      "hello glenn\n",
      "hello sally\n"
     ]
    }
   ],
   "source": [
    "#return values\n",
    "def greet():\n",
    "    return \"hello\"\n",
    "print(greet(),\"glenn\")\n",
    "print(greet(),\"sally\")"
   ]
  },
  {
   "cell_type": "code",
   "execution_count": 26,
   "id": "9e541f31",
   "metadata": {},
   "outputs": [
    {
     "name": "stdout",
     "output_type": "stream",
     "text": [
      "hello glenn\n",
      "hola sally\n",
      "bonjour michael\n"
     ]
    }
   ],
   "source": [
    "def greet(lang):\n",
    "    if lang=='es':\n",
    "        return 'hola'\n",
    "    elif lang=='fr':\n",
    "        return 'bonjour'\n",
    "    else:\n",
    "        return 'hello'    \n",
    "print(greet('en'),'glenn')\n",
    "print(greet('es'),'sally')\n",
    "print(greet('fr'),'michael')"
   ]
  },
  {
   "cell_type": "code",
   "execution_count": 27,
   "id": "f407009a",
   "metadata": {},
   "outputs": [
    {
     "name": "stdout",
     "output_type": "stream",
     "text": [
      "8\n"
     ]
    }
   ],
   "source": [
    "#multiple parameters\n",
    "def addtwo(a,b):\n",
    "    added=a+b\n",
    "    return added\n",
    "x=addtwo(3,5)\n",
    "print(x)"
   ]
  },
  {
   "cell_type": "code",
   "execution_count": 28,
   "id": "2d9e0f5b",
   "metadata": {},
   "outputs": [
    {
     "name": "stdout",
     "output_type": "stream",
     "text": [
      "450\n"
     ]
    }
   ],
   "source": [
    "#exercise\n",
    "def computepay(working_hours,rate_per_hour):\n",
    "    pay=working_hours*rate_per_hour\n",
    "    return pay\n",
    "netpay=computepay(45,10)\n",
    "print(netpay)"
   ]
  },
  {
   "cell_type": "code",
   "execution_count": null,
   "id": "4b7efe48",
   "metadata": {},
   "outputs": [],
   "source": []
  }
 ],
 "metadata": {
  "kernelspec": {
   "display_name": "Python 3 (ipykernel)",
   "language": "python",
   "name": "python3"
  },
  "language_info": {
   "codemirror_mode": {
    "name": "ipython",
    "version": 3
   },
   "file_extension": ".py",
   "mimetype": "text/x-python",
   "name": "python",
   "nbconvert_exporter": "python",
   "pygments_lexer": "ipython3",
   "version": "3.11.4"
  }
 },
 "nbformat": 4,
 "nbformat_minor": 5
}
